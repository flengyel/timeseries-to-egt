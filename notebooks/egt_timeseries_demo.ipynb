{
 "cells": [
  {
   "cell_type": "code",
   "execution_count": null,
   "id": "ce175c76",
   "metadata": {
    "tags": [
     "bootstrap"
    ]
   },
   "outputs": [],
   "source": [
    "# Bootstrap (CI-safe)\n",
    "# tags: [bootstrap]\n",
    "import os, random, numpy as np\n",
    "import ts2eg\n",
    "\n",
    "SEED = 0\n",
    "random.seed(SEED)\n",
    "np.random.seed(SEED)\n",
    "\n",
    "# Downshift knob: set TS2EG_CI=1 in CI to keep runtime small.\n",
    "TS2EG_CI = os.getenv(\"TS2EG_CI\") == \"1\"\n"
   ]
  },
  {
   "cell_type": "markdown",
   "id": "7fc7b0ce",
   "metadata": {},
   "source": [
    "# EGT demo: from multivariate time series to ESS\n",
    "\n",
    "This notebook shows an end-to-end run:\n",
    "1. Load an N×T multivariate series (players × time).\n",
    "2. Build a **nonnegative strategy basis** $S$ via a simple NMF.\n",
    "3. Estimate a $k\\times k$ payoff operator $A$ with `estimate_A_from_series`.\n",
    "4. Search for Nash/ESS with `find_ESS`.\n",
    "\n",
    "**How to use:**\n",
    "- If you have a CSV, set `CSV_PATH` below. CSV should be wide format (columns = players).\n",
    "- Otherwise this will generate a structured synthetic dataset (common mode + contrasts).\n"
   ]
  },
  {
   "cell_type": "code",
   "execution_count": null,
   "id": "ae1c3fba",
   "metadata": {},
   "outputs": [],
   "source": [
    "# --- Canonical imports (ts2eg only) ---\n",
    "import ts2eg as gm\n",
    "from ts2eg.core import nmf_on_X, growth_payoffs, estimate_A_from_series, find_ESS\n",
    "try:\n",
    "    from ts2eg import extensions as ext\n",
    "except Exception:\n",
    "    ext = None  # optional\n"
   ]
  },
  {
   "cell_type": "code",
   "execution_count": null,
   "id": "020cc57d",
   "metadata": {},
   "outputs": [],
   "source": [
    "# --- Parameters ---\n",
    "CSV_PATH = ''  # e.g., '/path/to/your_multivariate_timeseries.csv'\n",
    "K = 3          # number of strategies\n",
    "RIDGE = 1e-3   # ridge for A-estimation\n",
    "TOL = 1e-8     # ESS tolerance\n",
    "MAX_SUPPORT = K\n"
   ]
  },
  {
   "cell_type": "code",
   "execution_count": null,
   "id": "a62fa271",
   "metadata": {},
   "outputs": [],
   "source": [
    "if CSV_PATH and os.path.exists(CSV_PATH):\n",
    "    df = pd.read_csv(CSV_PATH)\n",
    "    # Keep numeric columns only\n",
    "    df = df.select_dtypes(include=['number']).dropna()\n",
    "    X = df.values.T  # N x T\n",
    "    print(f'Loaded real dataset with shape N x T = {X.shape}')\n",
    "else:\n",
    "    # Synthetic fallback (structured): common mode + orthogonal contrasts + noise\n",
    "    rng = np.random.default_rng(0)\n",
    "    N, T = 4, 400\n",
    "    t = np.arange(T)\n",
    "    common = 0.5 * np.sin(2*np.pi*t/50)\n",
    "    contrasts = np.vstack([\n",
    "        0.8*np.sin(2*np.pi*(t+10)/30),\n",
    "        0.5*np.cos(2*np.pi*(t+5)/40),\n",
    "        -0.3*np.sin(2*np.pi*(t+3)/60),\n",
    "        0.2*np.cos(2*np.pi*(t+7)/25),\n",
    "    ])\n",
    "    X = (common + contrasts + 0.2*rng.standard_normal((N, T)))\n",
    "    print(f'No CSV found. Using synthetic structured data N x T = {X.shape}')\n",
    "\n",
    "# Standardize per player (zero mean, unit variance)\n",
    "X = (X - X.mean(axis=1, keepdims=True)) / (X.std(axis=1, keepdims=True) + 1e-12)\n",
    "N, T = X.shape\n",
    "print('N, T =', N, T)"
   ]
  },
  {
   "cell_type": "markdown",
   "id": "e5e169cd",
   "metadata": {},
   "source": [
    "## Nonnegative strategy basis via simple NMF\n",
    "We shift/scale to nonnegative and use multiplicative updates to get $S\\in\\mathbb{R}_{\\ge 0}^{N\\times K}$."
   ]
  },
  {
   "cell_type": "code",
   "execution_count": null,
   "id": "a66a16bd",
   "metadata": {},
   "outputs": [],
   "source": [
    "def nmf_multiplicative(V, r=3, iters=500, seed=0):\n",
    "    rng = np.random.default_rng(seed)\n",
    "    # V ~ W H, with W: N x r, H: r x T\n",
    "    N, T = V.shape\n",
    "    W = np.maximum(rng.random((N, r)), 1e-6)\n",
    "    H = np.maximum(rng.random((r, T)), 1e-6)\n",
    "    for _ in range(iters):\n",
    "        # Update H\n",
    "        WH = W @ H + 1e-12\n",
    "        H *= (W.T @ (V / WH)) / (W.T @ np.ones_like(V) + 1e-12)\n",
    "        # Update W\n",
    "        WH = W @ H + 1e-12\n",
    "        W *= ((V / WH) @ H.T) / (np.ones_like(V) @ H.T + 1e-12)\n",
    "        # Avoid zeros\n",
    "        W = np.maximum(W, 1e-12)\n",
    "        H = np.maximum(H, 1e-12)\n",
    "    return W, H\n",
    "\n",
    "# Shift and scale X to [0,1] per player for NMF\n",
    "X_min = X.min(axis=1, keepdims=True)\n",
    "X_rng = X.max(axis=1, keepdims=True) - X_min + 1e-9\n",
    "X_pos = (X - X_min) / X_rng\n",
    "\n",
    "S, H = nmf_multiplicative(X_pos, r=K, iters=300, seed=0)\n",
    "print('S shape:', S.shape, 'H shape:', H.shape)\n",
    "# Normalize columns of S (unit norm)\n",
    "S = S / (np.linalg.norm(S, axis=0, keepdims=True) + 1e-12)"
   ]
  },
  {
   "cell_type": "markdown",
   "id": "e6b74f1e",
   "metadata": {},
   "source": [
    "## Estimate A and search ESS\n",
    "We use the series itself as a placeholder payoff field `v` for demonstration. In your project, set `v`\n",
    "to the per-player payoff series from Option A (profile-conditioned means) or Option B (VAR gains)."
   ]
  },
  {
   "cell_type": "code",
   "execution_count": null,
   "id": "91ff181d",
   "metadata": {
    "tags": [
     "ci-ensure-S"
    ]
   },
   "outputs": [],
   "source": [
    "# Ensure strategy basis S exists before estimation (and ensure X first)\n",
    "import numpy as _np\n",
    "if 'X' not in globals():\n",
    "    if 'v_growth' in globals():\n",
    "        X = _np.asarray(v_growth, dtype=float)\n",
    "    elif 'counts' in globals():\n",
    "        X = _np.asarray(counts, dtype=float)\n",
    "    else:\n",
    "        raise NameError(\"X is undefined; expected v_growth or counts earlier in the notebook.\")\n",
    "try:\n",
    "    S  # noqa: F821\n",
    "except NameError:\n",
    "    try:\n",
    "        K = int(globals().get('K', 3))\n",
    "    except Exception:\n",
    "        K = 3\n",
    "    S, H = nmf_on_X(X, k=K, iters=50, seed=1, normalize='l2')\n"
   ]
  },
  {
   "cell_type": "code",
   "execution_count": null,
   "id": "cf664c88",
   "metadata": {
    "tags": [
     "ci-ensure-S"
    ]
   },
   "outputs": [],
   "source": [
    "# Ensure strategy basis S exists before estimation\n",
    "try:\n",
    "    _ = S  # noqa: F821\n",
    "except NameError:\n",
    "    try:\n",
    "        K = int(globals().get('K', 3))\n",
    "    except Exception:\n",
    "        K = 3\n",
    "    S, H = nmf_on_X(X, k=K, iters=50, seed=1, normalize='l2')\n"
   ]
  },
  {
   "cell_type": "code",
   "execution_count": null,
   "id": "f3da77d5",
   "metadata": {},
   "outputs": [],
   "source": [
    "v = X.copy()  # Placeholder: demo uses the standardized series as payoff field\n",
    "est = estimate_A_from_series(S, X, v, k=K, ridge=RIDGE)\n",
    "A = est['A']\n",
    "print('A (k x k):\\n', np.round(A, 4))\n",
    "print('R^2 fit to centered strategy signals:', round(est['R2'], 3))\n",
    "\n",
    "ess_list = find_ESS(A, tol=TOL, max_support=MAX_SUPPORT)\n",
    "n_nash = sum(1 for r in ess_list if r['is_nash'])\n",
    "n_ess = sum(1 for r in ess_list if r['is_ess'])\n",
    "print('Nash candidates:', n_nash, ' ESS found:', n_ess)\n",
    "for r in ess_list:\n",
    "    if r['is_ess']:\n",
    "        print('ESS support:', r['support'], ' x* =', np.round(r['x'], 4))"
   ]
  },
  {
   "cell_type": "markdown",
   "id": "6a5993da",
   "metadata": {},
   "source": [
    "## Plot inferred strategy memberships $x(t)$"
   ]
  },
  {
   "cell_type": "code",
   "execution_count": null,
   "id": "d9a356a5",
   "metadata": {},
   "outputs": [],
   "source": [
    "Xk = est['Xk']  # k x T\n",
    "plt.figure(figsize=(8, 3))\n",
    "for i in range(K):\n",
    "    plt.plot(Xk[i], label=f'x_{i+1}')\n",
    "plt.title('Strategy memberships over time')\n",
    "plt.xlabel('time')\n",
    "plt.ylabel('membership')\n",
    "plt.legend()\n",
    "plt.show()"
   ]
  },
  {
   "cell_type": "markdown",
   "id": "2e143da6",
   "metadata": {},
   "source": [
    "## Save artifacts\n",
    "Saves `A.csv` and `Xk.csv` in the working directory for inspection."
   ]
  },
  {
   "cell_type": "code",
   "execution_count": null,
   "id": "688542ad",
   "metadata": {},
   "outputs": [],
   "source": [
    "import pandas as pd\n",
    "pd.DataFrame(A).to_csv('A.csv', index=False)\n",
    "pd.DataFrame(Xk).to_csv('Xk.csv', index=False)\n",
    "print('Wrote A.csv and Xk.csv')"
   ]
  }
 ],
 "metadata": {
  "kernelspec": {
   "display_name": ".venv",
   "language": "python",
   "name": "python3"
  },
  "language_info": {
   "codemirror_mode": {
    "name": "ipython",
    "version": 3
   },
   "file_extension": ".py",
   "mimetype": "text/x-python",
   "name": "python",
   "nbconvert_exporter": "python",
   "pygments_lexer": "ipython3",
   "version": "3.12.10"
  },
  "ts2eg_ci": "fast"
 },
 "nbformat": 4,
 "nbformat_minor": 5
}
