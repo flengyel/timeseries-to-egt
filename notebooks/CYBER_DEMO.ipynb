{
 "cells": [
  {
   "cell_type": "code",
   "execution_count": null,
   "id": "fa3d116a",
   "metadata": {
    "tags": [
     "bootstrap"
    ]
   },
   "outputs": [],
   "source": [
    "# Bootstrap (CI-safe)\n",
    "# tags: [bootstrap]\n",
    "import os, random, numpy as np\n",
    "import ts2eg\n",
    "\n",
    "SEED = 0\n",
    "random.seed(SEED)\n",
    "np.random.seed(SEED)\n",
    "\n",
    "# Downshift knob: set TS2EG_CI=1 in CI to keep runtime small.\n",
    "TS2EG_CI = os.getenv(\"TS2EG_CI\") == \"1\"\n"
   ]
  },
  {
   "cell_type": "code",
   "execution_count": null,
   "id": "11158724",
   "metadata": {},
   "outputs": [],
   "source": [
    "# --- bootstrap so `import ts2eg` works before installation ---\r\n",
    "import sys, os\r\n",
    "for up in [os.getcwd(), os.path.dirname(os.getcwd()), os.path.dirname(os.path.dirname(os.getcwd()))]:\r\n",
    "    src = os.path.join(up, \"src\")\r\n",
    "    if os.path.isdir(src) and src not in sys.path:\r\n",
    "        sys.path.insert(0, src)\r\n",
    "        break\r\n",
    "import ts2eg as gm\r\n",
    "from ts2eg import extensions as ext"
   ]
  },
  {
   "cell_type": "markdown",
   "id": "8a85d805",
   "metadata": {},
   "source": [
    "# CYBER_DEMO: Detector portfolio → EGT analysis (synthetic)\n",
    "\n",
    "This notebook demonstrates the pipeline on **cybersecurity detector portfolios**.\n",
    "\n",
    "**Players**: detectors/rule families (e.g., signature, anomaly, DNS, sandbox, EDR heuristics, ML).\n",
    "\n",
    "**Signals `X`**: share of alert volume or compute/triage time per detector (columns sum to 1).\n",
    "\n",
    "**Payoffs `v`**: **information-gain** toward a target `J` = negative *future incident cost* (dwell time / spread / escalations), estimated by rolling LOFO ablation.\n",
    "\n",
    "We simulate an **adversary–defender** setting where attackers shift tactics; we fit a strategy-level operator `A` and look for **ESS** (stable detector mix) and **cycles** (skew in `A`).\n"
   ]
  },
  {
   "cell_type": "code",
   "execution_count": null,
   "id": "a3b4f083",
   "metadata": {},
   "outputs": [],
   "source": [
    "import sys, os, numpy as np, pandas as pd, matplotlib.pyplot as plt\n",
    "from ts2eg.core import info_gain_payoffs, estimate_A_from_series, find_ESS, nmf_on_X\n",
    "print('Imports OK')"
   ]
  },
  {
   "cell_type": "markdown",
   "id": "31076991",
   "metadata": {},
   "source": [
    "## 1) Simulate detectors and adaptive adversary\n",
    "We model `N=6` detectors and a hidden `K=3`-archetype mix that the adversary responds to; defender routes triage capacity among detectors. The environment has day-of-week effects."
   ]
  },
  {
   "cell_type": "code",
   "execution_count": null,
   "id": "dfc48ad7",
   "metadata": {},
   "outputs": [],
   "source": [
    "def simulate_cyber(N=6, K=3, T=24*30, seed=0):  # hourly for ~1 month\n",
    "    rng = np.random.default_rng(seed)\n",
    "    # True detector archetypes (columns normalized)\n",
    "    S = rng.random((N, K)); S /= (np.linalg.norm(S, axis=0, keepdims=True) + 1e-12)\n",
    "    # Adversary–defender interaction among archetypes (skew → cycles)\n",
    "    A_true = np.array([[0.0,  0.25, -0.18],\n",
    "                       [-0.25, 0.0,  0.22],\n",
    "                       [0.18, -0.22, 0.0]])\n",
    "    x = np.full(K, 1.0/K)\n",
    "    X = np.zeros((N, T))\n",
    "    # Exogenous day-of-week baseline load\n",
    "    t = np.arange(T)\n",
    "    dow = (t // 24) % 7\n",
    "    base = 0.5 + 0.2*(dow >= 1)*(dow <= 4)  # busier Tue–Thu\n",
    "    noise = 0.10*rng.standard_normal((N, T))\n",
    "    for tt in range(T):\n",
    "        # Detector share vector with noise (rectified)\n",
    "        X[:, tt] = np.maximum(S @ x + noise[:, tt], 1e-8)\n",
    "        X[:, tt] /= X[:, tt].sum()\n",
    "        # Hidden replicator-like update (attacker/defender cycle)\n",
    "        u = A_true @ x; u -= u.mean()\n",
    "        x = x + 0.10*(x * u) + 0.01*rng.random(K)\n",
    "        x = np.maximum(x, 1e-8); x = x / x.sum()\n",
    "    # Construct incident-cost proxy (lower is better); make J = -cost (higher better)\n",
    "    w = np.array([0.6, 0.4, -0.2, -0.1, 0.3, -0.2])  # some detectors reduce cost; some add noise/FP\n",
    "    incident_cost = (X.T @ (-w)) + 0.2*np.sin(2*np.pi*t/24) + 0.2*rng.standard_normal(T) + (dow==5)*0.4\n",
    "    J = -incident_cost\n",
    "    return S, X, J\n",
    "\n",
    "S_true, X, J = simulate_cyber()\n",
    "N, T = X.shape; K = 3\n",
    "detectors = ['SIG','ANOM','DNS','SANDBOX','EDR','ML']\n",
    "print('X shape:', X.shape, 'J length:', J.shape)"
   ]
  },
  {
   "cell_type": "markdown",
   "id": "70ada19e",
   "metadata": {},
   "source": [
    "## 2) Payoffs = rolling LOFO information‑gain toward `J`\n",
    "We compute `v = info_gain_payoffs(X, J, window=168)` (one-week window for hourly data)."
   ]
  },
  {
   "cell_type": "code",
   "execution_count": null,
   "id": "76559bee",
   "metadata": {},
   "outputs": [],
   "source": [
    "v = info_gain_payoffs(X, J, ridge=1e-2, window=168)\n",
    "print('v shape:', v.shape)"
   ]
  },
  {
   "cell_type": "markdown",
   "id": "b9dcec83",
   "metadata": {},
   "source": [
    "## 3) Learn strategies via `nmf_on_X` and estimate `A`"
   ]
  },
  {
   "cell_type": "code",
   "execution_count": null,
   "id": "90f865fc",
   "metadata": {},
   "outputs": [],
   "source": [
    "from ts2eg.core import nmf_on_X\n",
    "K = 3\n",
    "S_hat, H = nmf_on_X(X, k=K, iters=300, seed=1, normalize='l2')\n",
    "print('S_hat shape:', S_hat.shape)\n"
   ]
  },
  {
   "cell_type": "markdown",
   "id": "32c5dca3",
   "metadata": {},
   "source": [
    "## 4) Fit `A` and search for ESS"
   ]
  },
  {
   "cell_type": "code",
   "execution_count": null,
   "id": "a1d8d3be",
   "metadata": {
    "tags": [
     "ci-ensure-S"
    ]
   },
   "outputs": [],
   "source": [
    "# Ensure strategy basis S exists before estimation (and ensure X first)\n",
    "import numpy as _np\n",
    "if 'X' not in globals():\n",
    "    if 'v_growth' in globals():\n",
    "        X = _np.asarray(v_growth, dtype=float)\n",
    "    elif 'counts' in globals():\n",
    "        X = _np.asarray(counts, dtype=float)\n",
    "    else:\n",
    "        raise NameError(\"X is undefined; expected v_growth or counts earlier in the notebook.\")\n",
    "try:\n",
    "    S  # noqa: F821\n",
    "except NameError:\n",
    "    try:\n",
    "        K = int(globals().get('K', 3))\n",
    "    except Exception:\n",
    "        K = 3\n",
    "    S, H = nmf_on_X(X, k=K, iters=50, seed=1, normalize='l2')\n"
   ]
  },
  {
   "cell_type": "code",
   "execution_count": null,
   "id": "20fb9aea",
   "metadata": {
    "tags": [
     "ci-ensure-S"
    ]
   },
   "outputs": [],
   "source": [
    "# Ensure strategy basis S exists before estimation\n",
    "try:\n",
    "    _ = S  # noqa: F821\n",
    "except NameError:\n",
    "    try:\n",
    "        K = int(globals().get('K', 3))\n",
    "    except Exception:\n",
    "        K = 3\n",
    "    S, H = nmf_on_X(X, k=K, iters=50, seed=1, normalize='l2')\n"
   ]
  },
  {
   "cell_type": "code",
   "execution_count": null,
   "id": "de32e80d",
   "metadata": {},
   "outputs": [],
   "source": [
    "est = estimate_A_from_series(S_hat, X, v, k=K, ridge=1e-2)\n",
    "A = est['A']\n",
    "print('R^2:', round(est['R2'], 3))\n",
    "ess = [r for r in find_ESS(A, tol=1e-8, max_support=K) if r['is_ess']]\n",
    "print('ESS count:', len(ess))\n",
    "As, Aa = 0.5*(A + A.T), 0.5*(A - A.T)\n",
    "print('||A_s||_F, ||A_a||_F =', float(np.linalg.norm(As)), float(np.linalg.norm(Aa)))"
   ]
  },
  {
   "cell_type": "markdown",
   "id": "8c759966",
   "metadata": {},
   "source": [
    "## 5) Null: circularly shift each detector's series\n",
    "Break cross-detector coordination while preserving each row's autocorrelation."
   ]
  },
  {
   "cell_type": "code",
   "execution_count": null,
   "id": "ad6543e0",
   "metadata": {},
   "outputs": [],
   "source": [
    "def circular_shift_rows(M):\n",
    "    N, T = M.shape\n",
    "    rng = np.random.default_rng(11)\n",
    "    Y = np.zeros_like(M)\n",
    "    for i in range(N):\n",
    "        k = int(rng.integers(0, T))\n",
    "        Y[i] = np.roll(M[i], k)\n",
    "    return Y\n",
    "\n",
    "X_null = circular_shift_rows(X)\n",
    "S_null, _ = nmf_multiplicative(X_null, r=K, iters=300, seed=7)\n",
    "S_null = S_null / (np.linalg.norm(S_null, axis=0, keepdims=True) + 1e-12)\n",
    "v_null = info_gain_payoffs(X_null, J, ridge=1e-2, window=168)\n",
    "est_null = estimate_A_from_series(S_null, X_null, v_null, k=K, ridge=1e-2)\n",
    "print('R^2 (null):', round(est_null['R2'], 3))\n",
    "ess_null = [r for r in find_ESS(est_null['A'], tol=1e-8, max_support=K) if r['is_ess']]\n",
    "print('ESS count (null):', len(ess_null))"
   ]
  },
  {
   "cell_type": "markdown",
   "id": "cdeebe21",
   "metadata": {},
   "source": [
    "## 6) Quick plots"
   ]
  },
  {
   "cell_type": "code",
   "execution_count": null,
   "id": "34ae4d20",
   "metadata": {},
   "outputs": [],
   "source": [
    "plt.figure(figsize=(8,3))\n",
    "for i in range(K):\n",
    "    plt.plot(est['Xk'][i], label=f'x_{i+1}')\n",
    "plt.title('Inferred strategy mixture x(t)'); plt.legend(); plt.show()"
   ]
  }
 ],
 "metadata": {
  "kernelspec": {
   "display_name": "Python 3",
   "language": "python",
   "name": "python3"
  },
  "ts2eg_ci": "fast"
 },
 "nbformat": 4,
 "nbformat_minor": 5
}
