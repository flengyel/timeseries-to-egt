{
 "cells": [
  {
   "cell_type": "code",
   "execution_count": null,
   "id": "bb8a2b48",
   "metadata": {
    "tags": [
     "bootstrap"
    ]
   },
   "outputs": [],
   "source": [
    "# Bootstrap (CI-safe)\n",
    "# tags: [bootstrap]\n",
    "import os, random, numpy as np\n",
    "import ts2eg\n",
    "\n",
    "SEED = 0\n",
    "random.seed(SEED)\n",
    "np.random.seed(SEED)\n",
    "\n",
    "# Downshift knob: set TS2EG_CI=1 in CI to keep runtime small.\n",
    "TS2EG_CI = os.getenv(\"TS2EG_CI\") == \"1\"\n"
   ]
  },
  {
   "cell_type": "markdown",
   "id": "00fa7b1d",
   "metadata": {},
   "source": [
    "# FIRM_DEMO: Capital–Labor Dynamics → Evolutionary Game Analysis (synthetic)\n",
    "\n",
    "This notebook demonstrates a value‑neutral mapping of firm dynamics (capital–labor allocation)\n",
    "to an evolutionary game using the `gamify-timeseries` scaffold.\n",
    "\n",
    "We will:\n",
    "1) Build **allocation shares** `X` over {LaborComp, CapEx, R&D, SG&A, Payouts}.\n",
    "2) Define two payoffs: (A) **distributional surplus‑capture**; (B) **value‑gradient to future ROIC**.\n",
    "3) Learn strategies via `nmf_on_X`, estimate `A` with `estimate_A_from_series`, search ESS via `find_ESS`.\n",
    "4) Compute a falsifiable statistic for **systematic surplus capture** and test against a row‑shift null.\n",
    "\n",
    "**Note:** Synthetic data; real analysis requires careful prep, rolling windows, nulls, and intervention checks."
   ]
  },
  {
   "cell_type": "code",
   "execution_count": null,
   "id": "01915058",
   "metadata": {},
   "outputs": [],
   "source": [
    "# --- Canonical imports (ts2eg only) ---\n",
    "import ts2eg as gm\n",
    "from ts2eg.core import nmf_on_X, growth_payoffs, estimate_A_from_series, find_ESS\n",
    "try:\n",
    "    from ts2eg import extensions as ext\n",
    "except Exception:\n",
    "    ext = None  # optional\n"
   ]
  },
  {
   "cell_type": "markdown",
   "id": "2ad89500",
   "metadata": {},
   "source": [
    "## 1) Simulate a quarterly firm panel"
   ]
  },
  {
   "cell_type": "code",
   "execution_count": null,
   "id": "fbe9ce9f",
   "metadata": {},
   "outputs": [],
   "source": [
    "def simulate_firm(T=80, seed=0):\n",
    "    rng = np.random.default_rng(seed)\n",
    "    t = np.arange(T)\n",
    "    VA = np.exp(0.01*t + 0.05*rng.standard_normal(T)).astype(float)  # value added\n",
    "    lab_share = 0.58 + 0.05*np.sin(2*np.pi*t/24) + 0.03*rng.standard_normal(T)\n",
    "    lab_share = np.clip(lab_share, 0.45, 0.70)\n",
    "    cap_share = 1.0 - lab_share\n",
    "    W = lab_share * VA                 # labor compensation\n",
    "    P = cap_share * VA                 # operating surplus\n",
    "    N = 5\n",
    "    X = np.zeros((N, T))               # allocation shares\n",
    "    X[0] = 0.45 + 0.05*np.sin(2*np.pi*(t+3)/20) + 0.02*rng.standard_normal(T)   # LaborComp\n",
    "    X[1] = 0.20 + 0.03*np.sin(2*np.pi*(t+5)/16) + 0.02*rng.standard_normal(T)   # CapEx\n",
    "    X[2] = 0.08 + 0.02*np.sin(2*np.pi*(t+8)/18) + 0.01*rng.standard_normal(T)   # R&D\n",
    "    X[3] = 0.17 + 0.02*np.sin(2*np.pi*(t+2)/26) + 0.02*rng.standard_normal(T)   # SG&A\n",
    "    X[4] = 0.10 + 0.02*np.sin(2*np.pi*(t+1)/22) + 0.02*rng.standard_normal(T)   # Payouts\n",
    "    X = np.clip(X, 1e-6, None); X /= X.sum(axis=0, keepdims=True)\n",
    "    roic = 0.08 + 0.01*np.sin(2*np.pi*t/12) \\\n",
    "           + 0.04*(0.3*X[2] + 0.2*X[1] - 0.1*X[4] - 0.05*X[3]) \\\n",
    "           + 0.01*rng.standard_normal(T)\n",
    "    return X, VA, W, P, roic\n",
    "\n",
    "X, VA, W, P, roic = simulate_firm(T=80, seed=2)\n",
    "players = ['LaborComp','CapEx','R&D','SG&A','Payouts']\n",
    "print('X shape:', X.shape)"
   ]
  },
  {
   "cell_type": "markdown",
   "id": "2bf9c378",
   "metadata": {},
   "source": [
    "## 2) Payoff A — distributional surplus‑capture proxy\n",
    "We use Δlog of labor and capital shares of value‑added, assign to rows, and center across players."
   ]
  },
  {
   "cell_type": "code",
   "execution_count": null,
   "id": "0260e7b8",
   "metadata": {},
   "outputs": [],
   "source": [
    "def dlog(arr):\n",
    "    arr = np.asarray(arr, dtype=float)\n",
    "    return np.diff(np.log(arr + 1e-12), prepend=np.log(arr[0] + 1e-12))\n",
    "\n",
    "labor_share = W / (VA + 1e-12)\n",
    "capital_share = P / (VA + 1e-12)\n",
    "v_dist = np.zeros_like(X)\n",
    "v_dist[0] = dlog(labor_share)\n",
    "v_dist[4] = dlog(capital_share)\n",
    "\n",
    "N = X.shape[0]\n",
    "M_I = np.ones((N, N))/N; M_Z = np.eye(N) - M_I\n",
    "vZ_dist = M_Z @ v_dist\n",
    "print('v_dist shape:', v_dist.shape)"
   ]
  },
  {
   "cell_type": "markdown",
   "id": "25801b64",
   "metadata": {},
   "source": [
    "### Distributional test statistic and null\n",
    "Statistic: \\( D = \\overline{v^{Z}_{\\text{Payouts}}} - \\overline{v^{Z}_{\\text{Labor}}} \\). Compare to a row‑shift null."
   ]
  },
  {
   "cell_type": "code",
   "execution_count": null,
   "id": "55d6bc4c",
   "metadata": {},
   "outputs": [],
   "source": [
    "def circular_shift_rows(M, seed=0):\n",
    "    rng = np.random.default_rng(seed)\n",
    "    N, T = M.shape\n",
    "    Y = np.zeros_like(M)\n",
    "    for i in range(N):\n",
    "        k = int(rng.integers(0, T))\n",
    "        Y[i] = np.roll(M[i], k)\n",
    "    return Y\n",
    "\n",
    "D = vZ_dist[4].mean() - vZ_dist[0].mean()\n",
    "Ds = []\n",
    "for b in range(500):\n",
    "    vZ_null = M_Z @ circular_shift_rows(v_dist, seed=b)\n",
    "    Ds.append(vZ_null[4].mean() - vZ_null[0].mean())\n",
    "Ds = np.array(Ds)\n",
    "z = (D - Ds.mean()) / (Ds.std() + 1e-12)\n",
    "print('D (capital minus labor, mean Z‑payoff):', round(D, 5), '  z vs null:', round(z, 2))"
   ]
  },
  {
   "cell_type": "markdown",
   "id": "4faa46f3",
   "metadata": {},
   "source": [
    "## 3) Strategies and operator (distributional payoff)"
   ]
  },
  {
   "cell_type": "code",
   "execution_count": null,
   "id": "62f82e92",
   "metadata": {
    "tags": [
     "ci-ensure-S"
    ]
   },
   "outputs": [],
   "source": [
    "# Ensure strategy basis S exists before estimation\n",
    "try:\n",
    "    _ = S  # noqa: F821\n",
    "except NameError:\n",
    "    try:\n",
    "        K = int(globals().get('K', 3))\n",
    "    except Exception:\n",
    "        K = 3\n",
    "    S, H = nmf_on_X(X, k=K, iters=50, seed=1, normalize='l2')\n"
   ]
  },
  {
   "cell_type": "code",
   "execution_count": null,
   "id": "f93744b4",
   "metadata": {
    "tags": [
     "ci-ensure-S"
    ]
   },
   "outputs": [],
   "source": [
    "# Ensure strategy basis S exists before estimation\n",
    "try:\n",
    "    _ = S  # noqa: F821\n",
    "except NameError:\n",
    "    try:\n",
    "        K = int(globals().get('K', 3))\n",
    "    except Exception:\n",
    "        K = 3\n",
    "    S, H = nmf_on_X(X, k=K, iters=50, seed=1, normalize='l2')\n"
   ]
  },
  {
   "cell_type": "code",
   "execution_count": null,
   "id": "b2799fb2",
   "metadata": {},
   "outputs": [],
   "source": [
    "K = 3\n",
    "S, H = nmf_on_X(X, k=K, iters=300, seed=1, normalize='l2')\n",
    "est_dist = estimate_A_from_series(S, X, v_dist, k=K, ridge=1e-2)\n",
    "A_dist = est_dist['A']\n",
    "ess_dist = [r for r in find_ESS(A_dist, tol=1e-8, max_support=K) if r['is_ess']]\n",
    "As, Aa = 0.5*(A_dist + A_dist.T), 0.5*(A_dist - A_dist.T)\n",
    "print('R^2 (dist):', round(est_dist['R2'], 3), ' ESS:', len(ess_dist), '  skew ratio:', round(np.linalg.norm(Aa)/(np.linalg.norm(A_dist)+1e-12),3))"
   ]
  },
  {
   "cell_type": "markdown",
   "id": "4664e2e6",
   "metadata": {},
   "source": [
    "### Plot inferred strategy mixture `x(t)`"
   ]
  },
  {
   "cell_type": "code",
   "execution_count": null,
   "id": "cab96b11",
   "metadata": {},
   "outputs": [],
   "source": [
    "plt.figure(figsize=(8,3))\n",
    "for i in range(K):\n",
    "    plt.plot(est_dist['Xk'][i], label=f'x_{i+1}')\n",
    "plt.title('Strategy memberships over time'); plt.legend(); plt.show()"
   ]
  },
  {
   "cell_type": "markdown",
   "id": "77e57bb7",
   "metadata": {},
   "source": [
    "## 4) Payoff B — value‑gradient to future ROIC"
   ]
  },
  {
   "cell_type": "code",
   "execution_count": null,
   "id": "6c4e2d9f",
   "metadata": {},
   "outputs": [],
   "source": [
    "H = 4\n",
    "J_future = np.roll(roic, -H)\n",
    "v_val = value_gradient_payoffs(X, J_future, ridge=1e-2, standardize=True)\n",
    "est_val = estimate_A_from_series(S, X, v_val, k=K, ridge=1e-2)\n",
    "A_val = est_val['A']\n",
    "ess_val = [r for r in find_ESS(A_val, tol=1e-8, max_support=K) if r['is_ess']]\n",
    "Asv, Aav = 0.5*(A_val + A_val.T), 0.5*(A_val - A_val.T)\n",
    "print('R^2 (value):', round(est_val['R2'], 3), ' ESS:', len(ess_val), '  skew ratio:', round(np.linalg.norm(Aav)/(np.linalg.norm(A_val)+1e-12),3))"
   ]
  },
  {
   "cell_type": "markdown",
   "id": "771ece76",
   "metadata": {},
   "source": [
    "## 5) Null test (row shifts) for value‑gradient fit"
   ]
  },
  {
   "cell_type": "code",
   "execution_count": null,
   "id": "56d5d8d7",
   "metadata": {},
   "outputs": [],
   "source": [
    "def fit_R2_under_null(X, v, S, B=100):\n",
    "    R2s = []\n",
    "    for b in range(B):\n",
    "        v_null = circular_shift_rows(v, seed=100+b)\n",
    "        est = estimate_A_from_series(S, X, v_null, k=S.shape[1], ridge=1e-2)\n",
    "        R2s.append(est['R2'])\n",
    "    return np.array(R2s)\n",
    "\n",
    "R2_null = fit_R2_under_null(X, v_val, S, B=100)\n",
    "z_R2 = (est_val['R2'] - R2_null.mean()) / (R2_null.std() + 1e-12)\n",
    "print('R^2 z‑score vs row‑shift null:', round(z_R2, 2))"
   ]
  },
  {
   "cell_type": "markdown",
   "id": "f2c6d1a5",
   "metadata": {},
   "source": [
    "## 6) Rolling‑window analysis (stability over time)"
   ]
  },
  {
   "cell_type": "code",
   "execution_count": null,
   "id": "66d402f0",
   "metadata": {},
   "outputs": [],
   "source": [
    "\n",
    "# --- Canonical imports with fallbacks ---\n",
    "try:\n",
    "    import ts2eg as gm\n",
    "except Exception:\n",
    "    try:\n",
    "        from gamify_timeseries import *  # standalone canonical file\n",
    "        import types as _types\n",
    "        gm = _types.SimpleNamespace(\n",
    "            helmert_Q=helmert_Q, projectors=projectors,\n",
    "            static_game_from_series=static_game_from_series,\n",
    "            var_information_sharing_game=var_information_sharing_game,\n",
    "            nmf_on_X=nmf_on_X, estimate_A_from_series=estimate_A_from_series,\n",
    "            find_ESS=find_ESS\n",
    "        )\n",
    "    except Exception:\n",
    "        raise ImportError(\"Neither 'ts2eg' package nor 'gamify_timeseries.py' (standalone) is available.\")\n",
    "try:\n",
    "    from ts2eg import extensions as ext\n",
    "except Exception:\n",
    "    try:\n",
    "        import egt_extensions as ext  # last resort\n",
    "    except Exception:\n",
    "        ext = None  # not all notebooks need extensions\n",
    "\n",
    "import numpy as np, matplotlib.pyplot as plt\n",
    "\n",
    "def rolling_window_metrics(X, v, S, win=32, step=4, labor_idx=0, capital_idx=4):\n",
    "    T = X.shape[1]\n",
    "    out = {\"t0\":[], \"t1\":[], \"R2\":[], \"skew_ratio\":[], \"D\":[]}\n",
    "    from ts2eg import estimate_A_from_series\n",
    "    N = X.shape[0]\n",
    "    M_I = np.ones((N,N))/N; M_Z = np.eye(N)-M_I\n",
    "    for t0 in range(0, T-win+1, step):\n",
    "        t1 = t0 + win\n",
    "        est = estimate_A_from_series(S, X[:,t0:t1], v[:,t0:t1], k=S.shape[1], ridge=1e-2)\n",
    "        A = est[\"A\"]; As, Aa = 0.5*(A+A.T), 0.5*(A-A.T)\n",
    "        skew_ratio = float(np.linalg.norm(Aa)/(np.linalg.norm(A)+1e-12))\n",
    "        # D statistic if the payoff aligns with labor/capital rows; else NaN\n",
    "        vZ = M_Z @ v[:,t0:t1]\n",
    "        D = float(vZ[capital_idx].mean() - vZ[labor_idx].mean()) if v.shape[0]>max(labor_idx,capital_idx) else float(\"nan\")\n",
    "        out[\"t0\"].append(t0); out[\"t1\"].append(t1)\n",
    "        out[\"R2\"].append(est[\"R2\"]); out[\"skew_ratio\"].append(skew_ratio); out[\"D\"].append(D)\n",
    "    return out\n",
    "\n",
    "# Compute rolling metrics for both payoffs\n",
    "roll_dist = rolling_window_metrics(X, v_dist, S, win=32, step=4)\n",
    "roll_val  = rolling_window_metrics(X, v_val,  S, win=32, step=4)\n",
    "\n",
    "plt.figure(figsize=(10,4))\n",
    "plt.plot(roll_dist[\"t1\"], roll_dist[\"R2\"], label=\"R2 (dist)\")\n",
    "plt.plot(roll_val[\"t1\"],  roll_val[\"R2\"],  label=\"R2 (value)\")\n",
    "plt.title(\"Rolling fit (R2)\"); plt.legend(); plt.show()\n",
    "\n",
    "plt.figure(figsize=(10,4))\n",
    "plt.plot(roll_dist[\"t1\"], roll_dist[\"skew_ratio\"], label=\"skew ratio (dist)\")\n",
    "plt.plot(roll_val[\"t1\"],  roll_val[\"skew_ratio\"],  label=\"skew ratio (value)\")\n",
    "plt.title(\"Rolling skew ratio ||A_a||/||A||\"); plt.legend(); plt.show()\n",
    "\n",
    "plt.figure(figsize=(10,4))\n",
    "plt.plot(roll_dist[\"t1\"], roll_dist[\"D\"], label=\"D (capital minus labor)\")\n",
    "plt.axhline(0, linestyle=\"--\")\n",
    "plt.title(\"Rolling surplus‑capture statistic D\"); plt.legend(); plt.show()\n"
   ]
  },
  {
   "cell_type": "markdown",
   "id": "9932c4c8",
   "metadata": {},
   "source": [
    "## 7) Real‑data stub (bring your own 10‑Q/10‑K panel)"
   ]
  },
  {
   "cell_type": "markdown",
   "id": "1ee04432",
   "metadata": {},
   "source": [
    "Expected CSV columns (quarterly): `date, LaborComp, CapEx, RnD, SGA, Payouts, VA, W, P, ROIC`.\n",
    "\n",
    "Place a file at `data/firm_quarterly.csv`, or modify the path below. Shares `X` are built by column‑normalizing `{LaborComp, CapEx, RnD, SGA, Payouts}` per quarter. `VA` (value added) should satisfy approximately `VA ≈ W + P`."
   ]
  },
  {
   "cell_type": "code",
   "execution_count": null,
   "id": "6dbafab8",
   "metadata": {},
   "outputs": [],
   "source": [
    "\n",
    "# --- Canonical imports with fallbacks ---\n",
    "try:\n",
    "    import ts2eg as gm\n",
    "except Exception:\n",
    "    try:\n",
    "        from gamify_timeseries import *  # standalone canonical file\n",
    "        import types as _types\n",
    "        gm = _types.SimpleNamespace(\n",
    "            helmert_Q=helmert_Q, projectors=projectors,\n",
    "            static_game_from_series=static_game_from_series,\n",
    "            var_information_sharing_game=var_information_sharing_game,\n",
    "            nmf_on_X=nmf_on_X, estimate_A_from_series=estimate_A_from_series,\n",
    "            find_ESS=find_ESS\n",
    "        )\n",
    "    except Exception:\n",
    "        raise ImportError(\"Neither 'ts2eg' package nor 'gamify_timeseries.py' (standalone) is available.\")\n",
    "try:\n",
    "    from ts2eg import extensions as ext\n",
    "except Exception:\n",
    "    try:\n",
    "        import egt_extensions as ext  # last resort\n",
    "    except Exception:\n",
    "        ext = None  # not all notebooks need extensions\n",
    "\n",
    "import os, pandas as pd, numpy as np\n",
    "from ts2eg import nmf_on_X, value_gradient_payoffs, estimate_A_from_series, find_ESS\n",
    "\n",
    "path = \"data/firm_quarterly.csv\"\n",
    "if not os.path.exists(path):\n",
    "    # Write a template to /mnt/data for convenience\n",
    "    tmpl = pd.DataFrame({\n",
    "        \"date\": pd.period_range(\"2010Q1\", periods=12, freq=\"Q\").astype(str),\n",
    "        \"LaborComp\":  [45,46,47,48,47,46,45,44,45,46,46,47],\n",
    "        \"CapEx\":      [20,21,22,21,22,23,22,21,20,20,21,22],\n",
    "        \"RnD\":        [8,8,9,9,9,9,10,10,9,9,9,9],\n",
    "        \"SGA\":        [17,16,16,16,16,16,16,17,17,17,17,17],\n",
    "        \"Payouts\":    [10,9,8,8,8,8,7,8,9,8,7,5],\n",
    "        \"VA\":         [100,102,104,103,105,106,108,109,110,112,113,115],\n",
    "        \"W\":          [58,59,60,61,60,59,58,57,58,59,59,60],\n",
    "        \"P\":          [42,43,44,42,45,47,50,52,52,53,54,55],\n",
    "        \"ROIC\":       [0.08,0.081,0.082,0.081,0.083,0.084,0.085,0.084,0.083,0.082,0.082,0.083],\n",
    "    })\n",
    "    tmpl_path = \"/mnt/data/firm_quarterly_template.csv\"\n",
    "    tmpl.to_csv(tmpl_path, index=False)\n",
    "    print(\"Template written:\", tmpl_path)\n",
    "else:\n",
    "    df = pd.read_csv(path)\n",
    "    cols = [\"LaborComp\",\"CapEx\",\"RnD\",\"SGA\",\"Payouts\"]\n",
    "    X_real = df[cols].to_numpy(dtype=float).T\n",
    "    X_real = np.clip(X_real, 1e-9, None)\n",
    "    X_real = X_real / (X_real.sum(axis=0, keepdims=True) + 1e-12)\n",
    "    VA = df[\"VA\"].to_numpy(float); W = df[\"W\"].to_numpy(float); P = df[\"P\"].to_numpy(float)\n",
    "    ROIC = df.get(\"ROIC\", pd.Series([np.nan]*len(df))).to_numpy(float)\n",
    "\n",
    "    # Example payoff: value‑gradient to future ROIC (H=4 quarters lead)\n",
    "    H = 4\n",
    "    J_future = np.roll(ROIC, -H)\n",
    "    v_real = value_gradient_payoffs(X_real, J_future, ridge=1e-2, standardize=True)\n",
    "\n",
    "    # Strategies & operator\n",
    "    S_r, H_r = nmf_on_X(X_real, k=3, iters=500, seed=2)\n",
    "    est_r = estimate_A_from_series(S_r, X_real, v_real, k=3, ridge=1e-2)\n",
    "    A_r = est_r[\"A\"]\n",
    "    ess_r = [r for r in find_ESS(A_r, tol=1e-8, max_support=3) if r[\"is_ess\"]]\n",
    "    print(\"Real‑data stub: R2=\", round(est_r[\"R2\"],3), \"  ESS count=\", len(ess_r))\n"
   ]
  }
 ],
 "metadata": {
  "kernelspec": {
   "display_name": "Python 3",
   "language": "python",
   "name": "python3"
  },
  "ts2eg_ci": "fast"
 },
 "nbformat": 4,
 "nbformat_minor": 5
}
