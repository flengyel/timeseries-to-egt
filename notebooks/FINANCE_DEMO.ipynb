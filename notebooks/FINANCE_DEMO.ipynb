{
 "cells": [
  {
   "cell_type": "markdown",
   "metadata": {},
   "source": [
    "# Finance Demo: Capital Allocation as an Evolutionary Game\n",
    "\n",
    "This notebook demonstrates the finance pipeline:\n",
    "1. Load/construct a quarterly **uses-of-cash** dataset `X` (items × time),\n",
    "2. Remove **accounting identities** with `project_out_identities`,\n",
    "3. Build a nonnegative strategy basis `S` (via simple NMF),\n",
    "4. Construct a **value-gradient payoff** series `v` using a target `J_future`,\n",
    "5. Fit `A` with `estimate_A_from_series`, and\n",
    "6. Search for **ESS** with `find_ESS`.\n"
   ]
  },
  {
   "cell_type": "code",
   "execution_count": null,
   "metadata": {},
   "outputs": [],
   "source": "# --- Canonical imports with fallbacks ---\ntry:\n    import ts2eg as gm\nexcept Exception:\n    try:\n        from gamify_timeseries import *  # standalone canonical file\n        import types as _types\n        gm = _types.SimpleNamespace(\n            helmert_Q=helmert_Q, projectors=projectors,\n            static_game_from_series=static_game_from_series,\n            var_information_sharing_game=var_information_sharing_game,\n            nmf_on_X=nmf_on_X, estimate_A_from_series=estimate_A_from_series,\n            find_ESS=find_ESS\n        )\n    except Exception:\n        raise ImportError(\"Neither 'ts2eg' package nor 'gamify_timeseries.py' (standalone) is available.\")\ntry:\n    from ts2eg import extensions as ext\nexcept Exception:\n    try:\n        import egt_extensions as ext  # last resort\n    except Exception:\n        ext = None  # not all notebooks need extensions\n\nimport sys, os, numpy as np, pandas as pd, matplotlib.pyplot as plt\nsys.path.append('/mnt/data')\nfrom ts2eg import (\n    project_out_identities, value_gradient_payoffs,\n    estimate_A_from_series, find_ESS\n)\nprint('Ready.')"
  },
  {
   "cell_type": "markdown",
   "metadata": {},
   "source": [
    "## 0) Synthetic quarterly financials (uses of cash)\n",
    "Columns represent items: Revenue share allocated to {COGS, SG&A, R&D, CapEx, NWC change}.\n",
    "We generate a plausible time series with slow drift + noise. Replace this with real 10-Q/10-K data."
   ]
  },
  {
   "cell_type": "code",
   "execution_count": null,
   "metadata": {},
   "outputs": [],
   "source": [
    "rng = np.random.default_rng(1)\n",
    "T = 60   # quarters\n",
    "items = ['COGS','SGA','R&D','CapEx','NWC']\n",
    "N = len(items)\n",
    "base = np.array([0.55, 0.20, 0.07, 0.05, 0.02])\n",
    "trend = np.vstack([\n",
    "    0.01*np.sin(2*np.pi*np.arange(T)/20 + 0.0),\n",
    "    0.01*np.cos(2*np.pi*np.arange(T)/24 + 1.0),\n",
    "    0.006*np.sin(2*np.pi*np.arange(T)/28 + 2.0),\n",
    "    0.005*np.cos(2*np.pi*np.arange(T)/32 + 0.5),\n",
    "    0.004*np.sin(2*np.pi*np.arange(T)/16 + 0.7),\n",
    "])\n",
    "noise = 0.01 * rng.standard_normal((N, T))\n",
    "X = base.reshape(N,1) + trend + noise\n",
    "X = np.clip(X, 0, None)\n",
    "X = X / (X.sum(axis=0, keepdims=True) + 1e-12)   # shares of Revenue\n",
    "print('X shape:', X.shape)"
   ]
  },
  {
   "cell_type": "markdown",
   "metadata": {},
   "source": [
    "## 1) Remove identities (example)\n",
    "Suppose we accidentally included 'GrossMargin' = 1 - COGS. Demonstrate projection that removes such redundancy.\n",
    "Here we **don’t** add that row, but show the API: build C with rows c^T x = 0 and call `project_out_identities(X, C)`."
   ]
  },
  {
   "cell_type": "code",
   "execution_count": null,
   "metadata": {},
   "outputs": [],
   "source": [
    "# Example: if GrossMargin were included, a row c would encode: GM + COGS - 1 = 0 (after common-sizing)\n",
    "C = np.zeros((0, N))   # no identities in this synthetic example\n",
    "if C.shape[0] > 0:\n",
    "    X = project_out_identities(X, C)\n",
    "X_mean = X.mean(axis=1)\n",
    "pd.DataFrame(X, index=items).head()"
   ]
  },
  {
   "cell_type": "markdown",
   "metadata": {},
   "source": [
    "## 2) Build a nonnegative strategy basis S via simple NMF\n",
    "We implement a tiny multiplicative-update NMF locally (no external deps)."
   ]
  },
  {
   "cell_type": "code",
   "execution_count": null,
   "metadata": {},
   "outputs": [],
   "source": [
    "def nmf_multiplicative(V, r=3, iters=400, seed=0):\n",
    "    rng = np.random.default_rng(seed)\n",
    "    N, T = V.shape\n",
    "    W = np.maximum(rng.random((N, r)), 1e-6)\n",
    "    H = np.maximum(rng.random((r, T)), 1e-6)\n",
    "    for _ in range(iters):\n",
    "        WH = W @ H + 1e-12\n",
    "        H *= (W.T @ (V / WH)) / (W.T @ np.ones_like(V) + 1e-12)\n",
    "        WH = W @ H + 1e-12\n",
    "        W *= ((V / WH) @ H.T) / (np.ones_like(V) @ H.T + 1e-12)\n",
    "        W = np.maximum(W, 1e-12); H = np.maximum(H, 1e-12)\n",
    "    return W, H\n",
    "\n",
    "# Nonnegative scaling of X (already >=0 and columns sum to 1). Still normalize columns of S.\n",
    "K = 3\n",
    "S, H = nmf_multiplicative(X, r=K, iters=300, seed=2)\n",
    "S = S / (np.linalg.norm(S, axis=0, keepdims=True) + 1e-12)\n",
    "print('S shape:', S.shape)"
   ]
  },
  {
   "cell_type": "markdown",
   "metadata": {},
   "source": [
    "## 3) Build a value target J and compute value-gradient payoffs v\n",
    "We synthesize a target `J_future` as a 4-quarter-ahead performance proxy driven by a linear combo of items plus noise."
   ]
  },
  {
   "cell_type": "code",
   "execution_count": null,
   "metadata": {},
   "outputs": [],
   "source": "true_beta = np.array([-0.6, -0.2, 0.5, 0.3, -0.1])\nJ = true_beta @ X + 0.05 * np.random.default_rng(3).standard_normal(T)\n# --- Canonical imports with fallbacks ---\ntry:\n    import ts2eg as gm\nexcept Exception:\n    try:\n        from gamify_timeseries import *  # standalone canonical file\n        import types as _types\n        gm = _types.SimpleNamespace(\n            helmert_Q=helmert_Q, projectors=projectors,\n            static_game_from_series=static_game_from_series,\n            var_information_sharing_game=var_information_sharing_game,\n            nmf_on_X=nmf_on_X, estimate_A_from_series=estimate_A_from_series,\n            find_ESS=find_ESS\n        )\n    except Exception:\n        raise ImportError(\"Neither 'ts2eg' package nor 'gamify_timeseries.py' (standalone) is available.\")\ntry:\n    from ts2eg import extensions as ext\nexcept Exception:\n    try:\n        import egt_extensions as ext  # last resort\n    except Exception:\n        ext = None  # not all notebooks need extensions\n\nfrom ts2eg import value_gradient_payoffs\nv = value_gradient_payoffs(X, J, model='ridge', ridge=1e-2, standardize=True)\nprint('v shape:', v.shape)"
  },
  {
   "cell_type": "markdown",
   "metadata": {},
   "source": [
    "## 4) Estimate A and search for ESS"
   ]
  },
  {
   "cell_type": "code",
   "execution_count": null,
   "metadata": {},
   "outputs": [],
   "source": "# --- Canonical imports with fallbacks ---\ntry:\n    import ts2eg as gm\nexcept Exception:\n    try:\n        from gamify_timeseries import *  # standalone canonical file\n        import types as _types\n        gm = _types.SimpleNamespace(\n            helmert_Q=helmert_Q, projectors=projectors,\n            static_game_from_series=static_game_from_series,\n            var_information_sharing_game=var_information_sharing_game,\n            nmf_on_X=nmf_on_X, estimate_A_from_series=estimate_A_from_series,\n            find_ESS=find_ESS\n        )\n    except Exception:\n        raise ImportError(\"Neither 'ts2eg' package nor 'gamify_timeseries.py' (standalone) is available.\")\ntry:\n    from ts2eg import extensions as ext\nexcept Exception:\n    try:\n        import egt_extensions as ext  # last resort\n    except Exception:\n        ext = None  # not all notebooks need extensions\n\nfrom ts2eg import estimate_A_from_series, find_ESS\nest = estimate_A_from_series(S, X, v, k=K, lambda_=1e-2)\nA = est['A']\nprint('R^2:', round(est['R2'], 3))\ness = [r for r in find_ESS(A, tol=1e-8, max_support=K) if r['is_ess']]\nprint('ESS count:', len(ess))\nfor r in ess:\n    print('ESS support:', r['support'], 'x*=', np.round(r['x'], 3))"
  },
  {
   "cell_type": "markdown",
   "metadata": {},
   "source": [
    "## 5) Plots"
   ]
  },
  {
   "cell_type": "code",
   "execution_count": null,
   "metadata": {},
   "outputs": [],
   "source": [
    "plt.figure(figsize=(7,3))\n",
    "for i in range(K):\n",
    "    plt.plot(est['Xk'][i], label=f'x_{i+1}')\n",
    "plt.title('Inferred strategy memberships x(t)'); plt.legend(); plt.show()\n",
    "\n",
    "import pandas as pd\n",
    "print('Strategy basis S (items x K):')\n",
    "display(pd.DataFrame(S, index=items, columns=[f's{i+1}' for i in range(K)]).round(3))"
   ]
  }
 ],
 "metadata": {
  "kernelspec": {
   "display_name": "Python 3",
   "language": "python",
   "name": "python3"
  }
 },
 "nbformat": 4,
 "nbformat_minor": 5
}