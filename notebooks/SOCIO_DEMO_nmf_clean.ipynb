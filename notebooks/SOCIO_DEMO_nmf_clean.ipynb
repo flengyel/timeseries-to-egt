{
 "cells": [
  {
   "cell_type": "markdown",
   "metadata": {},
   "source": [
    "# SOCIO_DEMO: Party competition (synthetic) → EGT analysis\n\nThis notebook demonstrates the pipeline on **synthetic party competition**. We simulate seat/membership dynamics with a hidden replicator field, then attempt to recover a **strategy‑level interaction operator** `A` and **ESS**.\n\n**Caveat:** This is illustrative. Real analyses must include intervention checks, nulls, and careful payoff definitions.\n"
   ]
  },
  {
   "cell_type": "code",
   "execution_count": null,
   "metadata": {},
   "outputs": [],
   "source": "# --- Canonical imports with fallbacks ---\ntry:\n    import ts2eg as gm\nexcept Exception:\n    try:\n        from gamify_timeseries import *  # standalone canonical file\n        import types as _types\n        gm = _types.SimpleNamespace(\n            helmert_Q=helmert_Q, projectors=projectors,\n            static_game_from_series=static_game_from_series,\n            var_information_sharing_game=var_information_sharing_game,\n            nmf_on_X=nmf_on_X, estimate_A_from_series=estimate_A_from_series,\n            find_ESS=find_ESS\n        )\n    except Exception:\n        raise ImportError(\"Neither 'ts2eg' package nor 'gamify_timeseries.py' (standalone) is available.\")\ntry:\n    from ts2eg import extensions as ext\nexcept Exception:\n    try:\n        import egt_extensions as ext  # last resort\n    except Exception:\n        ext = None  # not all notebooks need extensions\n\nimport sys, os, numpy as np, pandas as pd, matplotlib.pyplot as plt\nsys.path.append('/mnt/data')\nfrom ts2eg import (\n    growth_payoffs, info_gain_payoffs,\n    estimate_A_from_series, find_ESS\n)\nprint('Imports OK')"
  },
  {
   "cell_type": "markdown",
   "metadata": {},
   "source": [
    "## 1) Simulate party competition\nWe simulate `N=4` parties and `T=240` monthly observations. A hidden skew‑dominant `A_true` induces rotation among archetypes; we convert mixture shares into **counts** with lognormal fluctuations."
   ]
  },
  {
   "cell_type": "code",
   "execution_count": null,
   "metadata": {},
   "outputs": [],
   "source": [
    "def simulate_parties(N=4, K=3, T=240, seed=0):\n",
    "    rng = np.random.default_rng(seed)\n",
    "    # True archetypes over parties\n",
    "    S = rng.random((N, K)); S /= (np.linalg.norm(S, axis=0, keepdims=True) + 1e-12)\n",
    "    # Skew-dominant interaction among archetypes (drives cycles)\n",
    "    A_true = np.array([[0.0, 0.35, -0.25],\n",
    "                       [-0.35, 0.0,  0.30],\n",
    "                       [0.25, -0.30, 0.0]])\n",
    "    x = np.full(K, 1.0/K)\n",
    "    X_share = np.zeros((N, T))\n",
    "    for t in range(T):\n",
    "        X_share[:, t] = np.maximum(S @ x, 1e-8)\n",
    "        X_share[:, t] /= X_share[:, t].sum()\n",
    "        u = A_true @ x; u -= u.mean()\n",
    "        dx = x * u\n",
    "        x = x + 0.15*dx + 0.01*rng.random(K)\n",
    "        x = np.maximum(x, 1e-8); x = x / x.sum()\n",
    "    # Convert shares to counts with multiplicative noise\n",
    "    base_pop = 1e6\n",
    "    eps = np.exp(0.10*np.random.default_rng(1).standard_normal(T))\n",
    "    total = base_pop * eps\n",
    "    counts = (X_share * total)\n",
    "    return S, X_share, counts\n",
    "\n",
    "S_true, X_share, counts = simulate_parties()\n",
    "parties = [f'Party_{i+1}' for i in range(X_share.shape[0])]\n",
    "print('X_share:', X_share.shape, 'counts:', counts.shape)"
   ]
  },
  {
   "cell_type": "markdown",
   "metadata": {},
   "source": [
    "## 2) Payoffs — per‑capita growth (canonical for group counts)"
   ]
  },
  {
   "cell_type": "code",
   "execution_count": null,
   "metadata": {},
   "outputs": [],
   "source": [
    "v_growth = growth_payoffs(counts, dt=1.0, pad='edge')\n",
    "print('v_growth shape:', v_growth.shape)\n",
    "pd.DataFrame(v_growth, index=parties).iloc[:, :5]"
   ]
  },
  {
   "cell_type": "markdown",
   "metadata": {},
   "source": [
    "## 3) Strategy basis via `nmf_on_X` on shares\nWe implement a compact multiplicative‑update NMF and normalize the columns of `S_hat`."
   ]
  },
  {
   "cell_type": "code",
   "execution_count": null,
   "metadata": {},
   "outputs": [],
   "source": "# --- Canonical imports with fallbacks ---\ntry:\n    import ts2eg as gm\nexcept Exception:\n    try:\n        from gamify_timeseries import *  # standalone canonical file\n        import types as _types\n        gm = _types.SimpleNamespace(\n            helmert_Q=helmert_Q, projectors=projectors,\n            static_game_from_series=static_game_from_series,\n            var_information_sharing_game=var_information_sharing_game,\n            nmf_on_X=nmf_on_X, estimate_A_from_series=estimate_A_from_series,\n            find_ESS=find_ESS\n        )\n    except Exception:\n        raise ImportError(\"Neither 'ts2eg' package nor 'gamify_timeseries.py' (standalone) is available.\")\ntry:\n    from ts2eg import extensions as ext\nexcept Exception:\n    try:\n        import egt_extensions as ext  # last resort\n    except Exception:\n        ext = None  # not all notebooks need extensions\n\nfrom ts2eg import nmf_on_X\n# Learn nonnegative strategy archetypes\nK = 3\nS, H = nmf_on_X(X, k=K, iters=300, seed=1, normalize='l2')\nS = S  # columns already normalized by nmf_on_X\nprint('S shape:', S.shape)\n"
  },
  {
   "cell_type": "markdown",
   "metadata": {},
   "source": [
    "## 4) Estimate `A` and search for ESS (growth payoffs)"
   ]
  },
  {
   "cell_type": "code",
   "execution_count": null,
   "metadata": {},
   "outputs": [],
   "source": [
    "est = estimate_A_from_series(S, X_share, v_growth, k=K, lambda_=1e-2)\n",
    "A = est['A']; R2 = est['R2']\n",
    "print('R^2:', round(R2,3))\n",
    "ess = [r for r in find_ESS(A, tol=1e-8, max_support=K) if r['is_ess']]\n",
    "print('ESS count:', len(ess))\n",
    "for r in ess:\n",
    "    print('ESS support:', r['support'], 'x*=', np.round(r['x'], 3))\n",
    "As, Aa = 0.5*(A + A.T), 0.5*(A - A.T)\n",
    "print('||A_s||_F, ||A_a||_F =', float(np.linalg.norm(As)), float(np.linalg.norm(Aa)))"
   ]
  },
  {
   "cell_type": "markdown",
   "metadata": {},
   "source": [
    "### Plot inferred strategy mixture `x(t)`"
   ]
  },
  {
   "cell_type": "code",
   "execution_count": null,
   "metadata": {},
   "outputs": [],
   "source": [
    "plt.figure(figsize=(8,3))\n",
    "for i in range(K):\n",
    "    plt.plot(est['Xk'][i], label=f'x_{i+1}')\n",
    "plt.title('Inferred strategy memberships'); plt.legend(); plt.show()"
   ]
  },
  {
   "cell_type": "markdown",
   "metadata": {},
   "source": [
    "## 5) Alternative payoff: information‑gain to a target\nWe synthesize a target (e.g., *future nationwide approval/vote swing*) and compute rolling LOFO ablations."
   ]
  },
  {
   "cell_type": "code",
   "execution_count": null,
   "metadata": {},
   "outputs": [],
   "source": [
    "rng = np.random.default_rng(5)\n",
    "w = np.array([0.6, -0.4, 0.2, -0.1])\n",
    "J = (X_share.T @ w) + 0.05*rng.standard_normal(X_share.shape[1])\n",
    "v_info = info_gain_payoffs(X_share, J, ridge=1e-2, window=48)\n",
    "est_info = estimate_A_from_series(S, X_share, v_info, k=K, lambda_=1e-2)\n",
    "print('R^2 (info):', round(est_info['R2'],3))\n",
    "ess_info = [r for r in find_ESS(est_info['A'], tol=1e-8, max_support=K) if r['is_ess']]\n",
    "print('ESS count (info):', len(ess_info))"
   ]
  },
  {
   "cell_type": "markdown",
   "metadata": {},
   "source": [
    "## 6) Null test: circularly shift each row of `X_share`\nThis breaks cross‑group coordination while preserving row-wise autocorrelation."
   ]
  },
  {
   "cell_type": "code",
   "execution_count": null,
   "metadata": {},
   "outputs": [],
   "source": [
    "def circular_shift_rows(M):\n",
    "    N, T = M.shape\n",
    "    rng = np.random.default_rng(11)\n",
    "    Y = np.zeros_like(M)\n",
    "    for i in range(N):\n",
    "        k = int(rng.integers(0, T))\n",
    "        Y[i] = np.roll(M[i], k)\n",
    "    return Y\n",
    "\n",
    "X_null = circular_shift_rows(X_share)\n",
    "S_null, _ = nmf_multiplicative(X_null, r=K, iters=300, seed=7)\n",
    "S_null = S_null / (np.linalg.norm(S_null, axis=0, keepdims=True) + 1e-12)\n",
    "est_null = estimate_A_from_series(S_null, X_null, v_growth, k=K, lambda_=1e-2)\n",
    "print('R^2 (null):', round(est_null['R2'],3))\n",
    "ess_null = [r for r in find_ESS(est_null['A'], tol=1e-8, max_support=K) if r['is_ess']]\n",
    "print('ESS count (null):', len(ess_null))"
   ]
  }
 ],
 "metadata": {
  "kernelspec": {
   "display_name": "Python 3",
   "language": "python",
   "name": "python3"
  }
 },
 "nbformat": 4,
 "nbformat_minor": 5
}