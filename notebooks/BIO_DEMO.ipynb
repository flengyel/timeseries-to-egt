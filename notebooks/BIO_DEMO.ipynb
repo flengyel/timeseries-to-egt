{
 "cells": [
  {
   "cell_type": "code",
   "execution_count": null,
   "id": "843673ff",
   "metadata": {
    "tags": [
     "ci-bootstrap"
    ]
   },
   "outputs": [],
   "source": [
    "# Bootstrap (CI/offline, deterministic)\n",
    "import os, random, numpy as np\n",
    "# headless plotting (some cells call plt.*)\n",
    "import matplotlib\n",
    "matplotlib.use(\"Agg\")\n",
    "import matplotlib.pyplot as plt\n",
    "\n",
    "# core API we need\n",
    "from ts2eg.core import growth_payoffs, nmf_on_X, estimate_A_from_series, find_ESS\n",
    "import ts2eg as gm\n",
    "try:\n",
    "    from ts2eg import extensions as ext\n",
    "except Exception:\n",
    "    ext = None\n",
    "\n",
    "# seeds\n",
    "os.environ.setdefault(\"TS2EG_CI\", \"1\")\n",
    "os.environ[\"PYTHONHASHSEED\"] = \"0\"\n",
    "random.seed(0); np.random.seed(0)\n",
    "\n",
    "# tiny offline data stub (only if notebook didn't define data yet)\n",
    "g = globals()\n",
    "if \"counts\" not in g and \"v_growth\" not in g and \"X\" not in g:\n",
    "    rng = np.random.default_rng(0)\n",
    "    N, T = 4, 80\n",
    "    counts = np.maximum(rng.lognormal(mean=0.0, sigma=0.4, size=(N, T)), 1e-8)\n",
    "\n",
    "# default K if unspecified\n",
    "if \"K\" not in g:\n",
    "    K = 3\n"
   ]
  },
  {
   "cell_type": "code",
   "execution_count": null,
   "id": "c8ce9acf",
   "metadata": {
    "tags": [
     "bootstrap"
    ]
   },
   "outputs": [],
   "source": [
    "# Bootstrap (CI-safe)\n",
    "# tags: [bootstrap]\n",
    "import os, random, numpy as np\n",
    "import ts2eg\n",
    "\n",
    "SEED = 0\n",
    "random.seed(SEED)\n",
    "np.random.seed(SEED)\n",
    "\n",
    "# Downshift knob: set TS2EG_CI=1 in CI to keep runtime small.\n",
    "TS2EG_CI = os.getenv(\"TS2EG_CI\") == \"1\"\n"
   ]
  },
  {
   "cell_type": "markdown",
   "id": "f241dd4a",
   "metadata": {},
   "source": [
    "# BIO_DEMO: Ecological time series → Evolutionary Game analysis\n",
    "\n",
    "This notebook demonstrates two biologically interpretable payoff constructions:\n",
    "\n",
    "1. **Per-capita growth payoffs** `growth_payoffs` (standard Malthusian fitness), suitable for taxa/subclones.\n",
    "2. **Information-gain payoffs** `info_gain_payoffs` (LOFO ablation for forecasting a target), useful when a scalar endpoint (e.g., biomass, metabolite, clinical score) is available.\n",
    "\n",
    "We simulate a small Lotka–Volterra (LV) community, learn **strategy archetypes** via NMF, fit a **strategy-level payoff operator** `A`, and search for **ESS** using `find_ESS`."
   ]
  },
  {
   "cell_type": "code",
   "execution_count": null,
   "id": "9e5cdae3",
   "metadata": {},
   "outputs": [],
   "source": [
    "# --- bootstrap so `import ts2eg` works before installation ---\n",
    "import sys, os\n",
    "for up in [os.getcwd(), os.path.dirname(os.getcwd()), os.path.dirname(os.path.dirname(os.getcwd()))]:\n",
    "    src = os.path.join(up, \"src\")\n",
    "    if os.path.isdir(src) and src not in sys.path:\n",
    "        sys.path.insert(0, src)\n",
    "        break\n",
    "import ts2eg as gm\n"
   ]
  },
  {
   "cell_type": "markdown",
   "id": "aaef3ab5",
   "metadata": {},
   "source": [
    "## 1) Simulate a small LV community (counts)\n",
    "We generate counts for `N=5` taxa over `T=200` time points with weak competition and noise."
   ]
  },
  {
   "cell_type": "code",
   "execution_count": null,
   "id": "34953d6a",
   "metadata": {},
   "outputs": [],
   "source": [
    "def simulate_lv(N=5, T=200, dt=0.1, noise_sd=0.02, seed=0):\n",
    "    rng = np.random.default_rng(seed)\n",
    "    r = rng.normal(0.2, 0.05, size=N)  # intrinsic growth\n",
    "    # interaction matrix: diagonally dominant competition\n",
    "    A = 0.3*np.eye(N) + 0.05*rng.random((N,N))\n",
    "    x = np.maximum(rng.lognormal(mean=0.0, sigma=0.4, size=N), 1e-3)\n",
    "    X = np.zeros((N, T))\n",
    "    for t in range(T):\n",
    "        X[:, t] = x\n",
    "        g = r - A @ x\n",
    "        x = x * np.exp(g*dt + noise_sd*rng.standard_normal(N)*np.sqrt(dt))\n",
    "        x = np.maximum(x, 1e-8)\n",
    "    return X\n",
    "\n",
    "counts = simulate_lv()\n",
    "N, T = counts.shape\n",
    "taxa = [f'Taxon_{i+1}' for i in range(N)]\n",
    "print('counts shape:', counts.shape)\n",
    "pd.DataFrame(counts, index=taxa).iloc[:, :5]"
   ]
  },
  {
   "cell_type": "markdown",
   "id": "6b7a9cb1",
   "metadata": {},
   "source": [
    "## 2) Payoffs = per-capita growth (Malthusian fitness)\n",
    "`v_i(t) = [log n_i(t+1) - log n_i(t)] / dt` padded to length `T`."
   ]
  },
  {
   "cell_type": "code",
   "execution_count": null,
   "id": "766ee6d5",
   "metadata": {},
   "outputs": [],
   "source": [
    "v_growth = growth_payoffs(counts, dt=1.0, pad='edge')\n",
    "print('v_growth shape:', v_growth.shape)\n",
    "pd.DataFrame(v_growth, index=taxa).iloc[:, :5]"
   ]
  },
  {
   "cell_type": "code",
   "execution_count": null,
   "id": "855d1527",
   "metadata": {
    "tags": [
     "ci-x-from-counts"
    ]
   },
   "outputs": [],
   "source": [
    "# CI: define X explicitly from counts to keep shapes consistent\n",
    "import numpy as np\n",
    "X = np.asarray(counts, dtype=float)\n"
   ]
  },
  {
   "cell_type": "markdown",
   "id": "610e0256",
   "metadata": {},
   "source": [
    "## 3) Strategy basis via `nmf_on_X` on **relative abundances**\n",
    "We factor the relative-abundance matrix `X` into `S @ H` with `S` column-normalized. `K=3` archetypes.\n",
    "Columns of `S` are interpretable **guild archetypes**; we then infer time-varying memberships `x(t)` inside `estimate_A_from_series`."
   ]
  },
  {
   "cell_type": "code",
   "execution_count": null,
   "id": "60bee92c",
   "metadata": {},
   "outputs": [],
   "source": [
    "# --- Canonical imports (ts2eg only) ---\n",
    "import numpy as np, pandas as pd\n",
    "import matplotlib.pyplot as plt\n",
    "from ts2eg.core import nmf_on_X, growth_payoffs, estimate_A_from_series, find_ESS\n",
    "import ts2eg as gm\n",
    "try:\n",
    "    from ts2eg import extensions as ext\n",
    "except Exception:\n",
    "    ext = None  # optional\n"
   ]
  },
  {
   "cell_type": "markdown",
   "id": "836b968f",
   "metadata": {},
   "source": [
    "## 4) Estimate strategy-level operator `A` and find ESS (growth payoffs)"
   ]
  },
  {
   "cell_type": "code",
   "execution_count": null,
   "id": "e9b9320e",
   "metadata": {
    "tags": [
     "ci-ensure-S"
    ]
   },
   "outputs": [],
   "source": [
    "# Ensure strategy basis S exists before estimation (and ensure X first)\n",
    "import numpy as _np\n",
    "if 'X' not in globals():\n",
    "    if 'v_growth' in globals():\n",
    "        X = _np.asarray(v_growth, dtype=float)\n",
    "    elif 'counts' in globals():\n",
    "        X = _np.asarray(counts, dtype=float)\n",
    "    else:\n",
    "        raise NameError(\"X is undefined; expected v_growth or counts earlier in the notebook.\")\n",
    "try:\n",
    "    S  # noqa: F821\n",
    "except NameError:\n",
    "    try:\n",
    "        K = int(globals().get('K', 3))\n",
    "    except Exception:\n",
    "        K = 3\n",
    "    S, H = nmf_on_X(X, k=K, iters=50, seed=1, normalize='l2')\n"
   ]
  },
  {
   "cell_type": "code",
   "execution_count": null,
   "id": "08836885",
   "metadata": {
    "tags": [
     "ci-ensure-S"
    ]
   },
   "outputs": [],
   "source": [
    "# Ensure strategy basis S exists before estimation\n",
    "try:\n",
    "    _ = S  # noqa: F821\n",
    "except NameError:\n",
    "    try:\n",
    "        K = int(globals().get('K', 3))\n",
    "    except Exception:\n",
    "        K = 3\n",
    "    S, H = nmf_on_X(X, k=K, iters=50, seed=1, normalize='l2')\n"
   ]
  },
  {
   "cell_type": "code",
   "execution_count": null,
   "id": "34b94904",
   "metadata": {},
   "outputs": [],
   "source": [
    "est = estimate_A_from_series(S, X, v_growth, k=K, ridge=1e-2)\n",
    "A = est['A']\n",
    "R2 = est['R2']\n",
    "print('R^2 (growth payoffs):', round(R2, 3))\n",
    "ess = [r for r in find_ESS(A, tol=1e-8, max_support=K) if r['is_ess']]\n",
    "print('ESS count:', len(ess))\n",
    "for r in ess:\n",
    "    print('ESS support:', r['support'], 'x*=', np.round(r['x'], 3))\n",
    "\n",
    "# Decompose A\n",
    "As = 0.5*(A + A.T)\n",
    "Aa = 0.5*(A - A.T)\n",
    "print('||A_s||_F, ||A_a||_F =', float(np.linalg.norm(As)), float(np.linalg.norm(Aa)))"
   ]
  },
  {
   "cell_type": "markdown",
   "id": "f34a00ce",
   "metadata": {},
   "source": [
    "### Plot inferred strategy memberships `x(t)`"
   ]
  },
  {
   "cell_type": "code",
   "execution_count": null,
   "id": "37cea390",
   "metadata": {},
   "outputs": [],
   "source": [
    "plt.figure(figsize=(8,3))\n",
    "for i in range(K):\n",
    "    plt.plot(est['Xk'][i], label=f'x_{i+1}')\n",
    "plt.title('Strategy memberships over time'); plt.legend(); plt.show()"
   ]
  },
  {
   "cell_type": "markdown",
   "id": "1fba6f7e",
   "metadata": {},
   "source": [
    "## 5) Information-gain payoffs for a target (e.g., biomass proxy)\n",
    "We synthesize a scalar target influenced by two taxa and compute rolling LOFO ablation payoffs."
   ]
  },
  {
   "cell_type": "code",
   "execution_count": null,
   "id": "eaa425c3",
   "metadata": {},
   "outputs": [],
   "source": [
    "rng = np.random.default_rng(3)\n",
    "target = 0.6*X[0] - 0.4*X[2] + 0.2*rng.standard_normal(T)\n",
    "v_info = info_gain_payoffs(X, target, ridge=1e-2, window=40)\n",
    "est_info = estimate_A_from_series(S, X, v_info, k=K, ridge=1e-2)\n",
    "A_info = est_info['A']\n",
    "print('R^2 (info-gain payoffs):', round(est_info['R2'], 3))\n",
    "ess_info = [r for r in find_ESS(A_info, tol=1e-8, max_support=K) if r['is_ess']]\n",
    "print('ESS count (info):', len(ess_info))"
   ]
  },
  {
   "cell_type": "markdown",
   "id": "62f6eadc",
   "metadata": {},
   "source": [
    "## 6) Null test (circular row shifts)\n",
    "We break coordination by circularly shifting each taxon independently and repeat the fit."
   ]
  },
  {
   "cell_type": "code",
   "execution_count": null,
   "id": "a61e3db6",
   "metadata": {},
   "outputs": [],
   "source": [
    "def circular_shift_rows(M):\n",
    "    N, T = M.shape\n",
    "    rng = np.random.default_rng(9)\n",
    "    Y = np.zeros_like(M)\n",
    "    for i in range(N):\n",
    "        k = int(rng.integers(0, T))\n",
    "        Y[i] = np.roll(M[i], k)\n",
    "    return Y\n",
    "\n",
    "X_null = circular_shift_rows(X)\n",
    "v_null = growth_payoffs(counts, dt=1.0, pad='edge')  # keep same v here; you could also shift v\n",
    "S_null, _ = nmf_multiplicative(X_null, r=K, iters=300, seed=5)\n",
    "S_null = S_null / (np.linalg.norm(S_null, axis=0, keepdims=True) + 1e-12)\n",
    "est_null = estimate_A_from_series(S_null, X_null, v_null, k=K, ridge=1e-2)\n",
    "print('R^2 (null):', round(est_null['R2'], 3))\n",
    "ess_null = [r for r in find_ESS(est_null['A'], tol=1e-8, max_support=K) if r['is_ess']]\n",
    "print('ESS count (null):', len(ess_null))"
   ]
  }
 ],
 "metadata": {
  "kernelspec": {
   "display_name": "Python 3",
   "language": "python",
   "name": "python3"
  },
  "ts2eg_ci": "fast"
 },
 "nbformat": 4,
 "nbformat_minor": 5
}
